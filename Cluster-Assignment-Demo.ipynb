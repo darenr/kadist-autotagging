{
 "cells": [
  {
   "cell_type": "code",
   "execution_count": null,
   "metadata": {},
   "outputs": [],
   "source": [
    "import pandas as pd\n",
    "import matplotlib\n",
    "import numpy as np\n",
    "import matplotlib.pyplot as plt\n",
    "from itertools import cycle, islice\n",
    "%matplotlib inline  \n",
    "\n",
    "\n",
    "df = pd.read_csv('results_wup_0.8.csv')\n",
    "\n",
    "# remove rows where no clusters\n",
    "df = df.dropna(subset=['machine_clusters'])\n",
    "df = df.dropna(subset=['human_clusters'])\n",
    "df['success'] = df['hits'] > 0"
   ]
  },
  {
   "cell_type": "markdown",
   "metadata": {},
   "source": [
    "# How well overall did machine do\n",
    "\n",
    "T = 0.8, similarity metric is how similar two word senses are, based on the depth of the two senses in the taxonomy and that of their Least Common Subsumer (most specific ancestor node)."
   ]
  },
  {
   "cell_type": "code",
   "execution_count": null,
   "metadata": {},
   "outputs": [],
   "source": [
    "df[['human_assessment_type', 'human_clusters', 'machine_clusters', 'success', 'hits']].head(50)\n"
   ]
  },
  {
   "cell_type": "markdown",
   "metadata": {},
   "source": [
    "# How well did machine do by human assessment type"
   ]
  },
  {
   "cell_type": "code",
   "execution_count": null,
   "metadata": {},
   "outputs": [],
   "source": [
    "df = df[['human_assessment_type', 'human_clusters', 'machine_clusters', 'hits']]\n",
    "df.groupby('human_assessment_type').agg({'hits':sum}).head()"
   ]
  },
  {
   "cell_type": "code",
   "execution_count": null,
   "metadata": {},
   "outputs": [],
   "source": [
    "df_desc = df.loc[df['human_assessment_type'] == 'description']\n",
    "df_tags = df.loc[df['human_assessment_type'] == 'tags']"
   ]
  },
  {
   "cell_type": "markdown",
   "metadata": {},
   "source": [
    "Conclusion from the above is that the machine agrees much more often when the human clustered the works from the tags (vs descriptions)."
   ]
  },
  {
   "cell_type": "markdown",
   "metadata": {},
   "source": [
    "# human cluster distribution"
   ]
  },
  {
   "cell_type": "code",
   "execution_count": null,
   "metadata": {},
   "outputs": [],
   "source": [
    "df['human_clusters'].str.split(',', expand=True).head(50)\n",
    "my_colors = list(islice(cycle(['b', 'r', 'g', 'y', 'k']), None, len(df)))\n",
    "pd.concat([pd.Series(row['human_clusters'].split(','))              \n",
    "                    for _, row in df.iterrows()]).reset_index()[0]\\\n",
    "    .value_counts().plot(kind='barh', figsize=(8,8), colors=my_colors, width=0.75);"
   ]
  },
  {
   "cell_type": "markdown",
   "metadata": {},
   "source": [
    "# machine cluster distribution"
   ]
  },
  {
   "cell_type": "code",
   "execution_count": null,
   "metadata": {},
   "outputs": [],
   "source": [
    "pd.concat([pd.Series(row['machine_clusters'].split(','))              \n",
    "                    for _, row in df.iterrows()]).reset_index()[0]\\\n",
    "    .value_counts().plot(kind='barh', figsize=(8,8), colors=my_colors, width=0.75);"
   ]
  },
  {
   "cell_type": "markdown",
   "metadata": {},
   "source": [
    "## which clusters did the machine get it rigth for most?"
   ]
  },
  {
   "cell_type": "code",
   "execution_count": null,
   "metadata": {},
   "outputs": [],
   "source": [
    "s = df.loc[df['hits'] > 0]['machine_clusters'].str.split(',').apply(pd.Series, 1).stack()\n",
    "s.index = s.index.droplevel(-1)\n",
    "s.value_counts().plot(kind='barh', figsize=(8,8), colors=my_colors, width=0.75);\n"
   ]
  },
  {
   "cell_type": "markdown",
   "metadata": {},
   "source": [
    "## and which cluster did the machine get it *wrong* for most?\n"
   ]
  },
  {
   "cell_type": "code",
   "execution_count": null,
   "metadata": {},
   "outputs": [],
   "source": [
    "s = df.loc[df['hits']==0]['machine_clusters'].str.split(',').apply(pd.Series, 1).stack()\n",
    "s.index = s.index.droplevel(-1)\n",
    "s.value_counts().plot(kind='barh', figsize=(8,8), colors=my_colors, width=0.75);\n"
   ]
  }
 ],
 "metadata": {
  "kernelspec": {
   "display_name": "Python 3",
   "language": "python",
   "name": "python3"
  },
  "language_info": {
   "codemirror_mode": {
    "name": "ipython",
    "version": 3
   },
   "file_extension": ".py",
   "mimetype": "text/x-python",
   "name": "python",
   "nbconvert_exporter": "python",
   "pygments_lexer": "ipython3",
   "version": "3.7.2"
  }
 },
 "nbformat": 4,
 "nbformat_minor": 2
}
